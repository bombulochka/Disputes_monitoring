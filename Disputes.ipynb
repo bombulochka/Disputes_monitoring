{
 "cells": [
  {
   "cell_type": "code",
   "execution_count": null,
   "metadata": {},
   "outputs": [],
   "source": [
    "import pandas as pd\n",
    "import numpy as np\n",
    "import os\n",
    "import re\n",
    "from pandas import ExcelWriter\n",
    "from datetime import datetime as dt"
   ]
  },
  {
   "cell_type": "code",
   "execution_count": null,
   "metadata": {},
   "outputs": [],
   "source": [
    "#Грузим отчет по диспутам\n",
    "for filename in os.listdir('.'):\n",
    "    if (filename.startswith('Report') or filename.startswith('Export')) and (filename.endswith('.xlsm') or filename.endswith('.xlsx')):\n",
    "        df = pd.read_excel('./' + filename, sheet_name='Sheet1')\n",
    "df['Номер терминала'] = df['Номер терминала'].str.strip('\\r\\n ') #убираем пробелы в номере терминала"
   ]
  },
  {
   "cell_type": "code",
   "execution_count": null,
   "metadata": {},
   "outputs": [],
   "source": [
    "#Убираем бины из названий банков, заменяем в Сумме диспута запятые на точки, задаем Дате старта БП формат даты\n",
    "df['Эквайрер'] = df['Эквайрер'].str.replace('\\d{6,} - ', '')\n",
    "df['Эмитент'] = df['Эмитент'].str.replace('\\d{6,} - ', '')"
   ]
  },
  {
   "cell_type": "code",
   "execution_count": null,
   "metadata": {},
   "outputs": [],
   "source": [
    "for i in range(df.shape[0]):\n",
    "        row = df['Эквайрер'].iloc[i]\n",
    "        if re.search('/d{4}', row):\n",
    "            df['Эквайрер'].iloc[i] = re.sub('/\\d{4}', '', row)"
   ]
  },
  {
   "cell_type": "code",
   "execution_count": null,
   "metadata": {},
   "outputs": [],
   "source": [
    "#Задаем Сумме диспута формат числа, записываем данные в файл на лист raw_data для формирования сводной таблицы (при необходимости)\n",
    "df['Сумма диспута'] = pd.to_numeric(df['Сумма диспута'])\n",
    "with ExcelWriter('./DISPUTES_MIR.xlsx', engine=\"openpyxl\", mode='w') as writer: \n",
    "    df.to_excel(writer, sheet_name=\"raw_data\", index = False)"
   ]
  },
  {
   "cell_type": "code",
   "execution_count": null,
   "metadata": {
    "scrolled": true
   },
   "outputs": [],
   "source": [
    "#Формируем датафрейм по заданным условиям, считаем сумму и количество диспутов, сводим вместе, сортируем по убыванию, добавляем столбец с комментарием\n",
    "month = int(input('Указать номер нужного месяца: '))\n",
    "df_disp = df[(df['Дата старта БП'].dt.month == month)& #За текущий месяц (или указать номер нужного месяца)\n",
    "             (df['ПС'] == 'МИР')& #ПС \"Мир\"\n",
    "             (df['Вид деятельности'] == 'Эквайринг')& #Эквайринг\n",
    "             (df['Направление БП'] == 'Входящий БП')& #Входящие БП\n",
    "             ((df['Тип БП'] =='Жалоба')|(df['Тип БП'] == 'Диспут'))] #Типы БП: Жалоба и Диспут\n",
    "df_sum = df_disp.groupby('Эквайрер')['Сумма диспута'].sum()\n",
    "df_count = df_disp.groupby('Эквайрер')['Индекс БП'].count()\n",
    "df_itog = pd.concat([df_sum, df_count], axis = 1)\n",
    "df_itog.reset_index(inplace= True )\n",
    "df_itog.columns = ['Эквайер', 'Сумма диспутов, р', 'Количество диспутов']\n",
    "df_itog = df_itog.sort_values(by='Сумма диспутов, р', ascending=False).reset_index(drop = True)\n",
    "df_itog.loc[df_itog['Сумма диспутов, р'] > 500000, 'Нарушение'] = 'Сумма превышена'\n",
    "df_itog.loc[df_itog['Количество диспутов'] > 40, 'Нарушение'] = 'Количество превышено'\n",
    "df_itog.loc[(df_itog['Сумма диспутов, р'] > 500000)&(df_itog['Количество диспутов'] > 40), 'Нарушение'] = 'Сумма и количество превышены'\n",
    "df_itog.loc[(df_itog['Сумма диспутов, р'] <= 500000)&(df_itog['Количество диспутов'] <= 40), 'Нарушение'] = 'Превышений нет'"
   ]
  },
  {
   "cell_type": "code",
   "execution_count": null,
   "metadata": {},
   "outputs": [],
   "source": [
    "#Выделяем высокорисковые ТСП\n",
    "df_disp_HR = df_disp.loc[df_disp['МСС'].isin([4511, 4722, 5122, 5912, 5921, 5993, 6012, 6051, 6211, 7273, 7995, 6537])|\n",
    "            ((df_disp['МСС'] >= 3000)&(df_disp['МСС'] <= 3300))]"
   ]
  },
  {
   "cell_type": "code",
   "execution_count": null,
   "metadata": {},
   "outputs": [],
   "source": [
    "#Записываем точки эквайеров с нарушением, по которым пришли диспуты, на лист TSP\n",
    "acq_list = df_itog.loc[df_itog['Нарушение'] != 'Превышений нет', 'Эквайер']\n",
    "for i in acq_list:\n",
    "    df_sum2 = df_disp[df_disp['Эквайрер'] == i].groupby('Номер терминала')['Сумма диспута'].sum()\n",
    "    df_count2 = df_disp[df_disp['Эквайрер'] == i].groupby('Номер терминала')['Индекс БП'].count()\n",
    "    df_itog2 = pd.concat([df_sum2, df_count2], axis = 1)\n",
    "    df_sum2_HR = df_disp_HR[df_disp_HR['Эквайрер'] == i].groupby('Номер терминала')['Сумма диспута'].sum()\n",
    "    df_count2_HR = df_disp_HR[df_disp_HR['Эквайрер'] == i].groupby('Номер терминала')['Индекс БП'].count()\n",
    "    df_itog2 = pd.concat([df_itog2, df_sum2_HR], axis = 1)\n",
    "    df_itog2 = pd.concat([df_itog2, df_count2_HR], axis = 1)    \n",
    "    df_itog2.reset_index(inplace= True )\n",
    "    df_itog2.columns = ['Номер терминала', 'Сумма диспутов, р', 'Количество диспутов', 'Сумма диспутов в рисковых ТСП, р', 'Количество диспутов в рисковых ТСП']\n",
    "    df_itog2 = df_itog2.sort_values(by='Сумма диспутов, р', ascending=False).reset_index(drop = True)\n",
    "    df_itog2['Эквайер'] = i\n",
    "    df_itog2 = df_itog2.merge(df_disp[['Номер терминала', 'Точка обслуживания', 'МСС']].drop_duplicates(), how = 'left', on = 'Номер терминала')\n",
    "    with ExcelWriter('./DISPUTES_MIR.xlsx', engine=\"openpyxl\", mode='a') as writer: \n",
    "        df_itog2.to_excel(writer, sheet_name= \"TSP\")"
   ]
  },
  {
   "cell_type": "code",
   "execution_count": null,
   "metadata": {},
   "outputs": [],
   "source": [
    "#Записываем полученные показатели на лист month_stat, где month - текущий (указанный) месяц\n",
    "month_list = ['january', 'february', 'march', 'april', 'may', 'june',\n",
    "           'july', 'august', 'september', 'october', 'november', 'december']\n",
    "with ExcelWriter('./DISPUTES_MIR.xlsx', engine=\"openpyxl\", mode='a') as writer: \n",
    "    df_itog.to_excel(writer, sheet_name= month_list[month - 1] + \" _stat\")"
   ]
  },
  {
   "cell_type": "code",
   "execution_count": null,
   "metadata": {},
   "outputs": [],
   "source": [
    "#Диспуты РНКО\n",
    "df_RNKO = df_disp[df_disp['Эквайрер'] == 'РНКО \"Платежный Центр\" (ООО)']\n",
    "df_RNKO.to_excel('./DISPUTES_RNKO.xlsx')"
   ]
  },
  {
   "cell_type": "code",
   "execution_count": null,
   "metadata": {},
   "outputs": [],
   "source": [
    "for i in range(df.shape[0]):\n",
    "        row = df['Эквайрер'].iloc[i]\n",
    "        if re.search('/d{4}', row):\n",
    "            df['Эквайрер'].iloc[i] = re.sub('/\\d{4}', '', row)"
   ]
  }
 ],
 "metadata": {
  "kernelspec": {
   "display_name": "Python 3",
   "language": "python",
   "name": "python3"
  },
  "language_info": {
   "codemirror_mode": {
    "name": "ipython",
    "version": 3
   },
   "file_extension": ".py",
   "mimetype": "text/x-python",
   "name": "python",
   "nbconvert_exporter": "python",
   "pygments_lexer": "ipython3",
   "version": "3.7.6"
  }
 },
 "nbformat": 4,
 "nbformat_minor": 4
}
